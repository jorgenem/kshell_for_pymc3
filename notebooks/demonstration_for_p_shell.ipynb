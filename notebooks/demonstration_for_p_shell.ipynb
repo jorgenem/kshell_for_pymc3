{
 "cells": [
  {
   "cell_type": "code",
   "execution_count": 1,
   "metadata": {},
   "outputs": [],
   "source": [
    "import sys\n",
    "import pymc3 as pm\n",
    "\n",
    "sys.path.insert(0, \"../\")\n",
    "from kshell_for_pymc3 import *\n",
    "from kshell_settings import KSHELL_DIR, IS_MPI"
   ]
  },
  {
   "cell_type": "code",
   "execution_count": 2,
   "metadata": {},
   "outputs": [
    {
     "name": "stdout",
     "output_type": "stream",
     "text": [
      "Total number of levels for all SM calculations N = 10\n"
     ]
    }
   ],
   "source": [
    "# === Set up shell model ensemble ===\n",
    "truncation = [[],[]] # Truncations of the form [[orbital_numbers], [min_part1, max_part1, min_part2, max_part2, ...]]\n",
    "core = {'A': 4, 'Z': 2}\n",
    "model_space = {1: {'j': 1, 'Tz': -1, 'l': 1, 'n': 0}, \n",
    "               2: {'j': 3, 'Tz': -1, 'l': 1, 'n': 0}, \n",
    "               3: {'j': 1, 'Tz':  1, 'l': 1, 'n': 0}, \n",
    "               4: {'j': 3, 'Tz':  1, 'l': 1, 'n': 0}}\n",
    "\n",
    "spe_template = np.array([ 2.419,  1.129,  2.419,  1.129])\n",
    "tbme_template = np.array([[ 1.     ,  1.     ,  1.     ,  1.     ,  0.     ,  0.244  ],\n",
    "     [ 1.     ,  1.     ,  2.     ,  2.     ,  0.     , -5.0526 ],\n",
    "     [ 1.     ,  2.     ,  1.     ,  2.     ,  1.     ,  0.7344 ],\n",
    "     [ 1.     ,  2.     ,  1.     ,  2.     ,  2.     , -1.1443 ],\n",
    "     [ 1.     ,  2.     ,  2.     ,  2.     ,  2.     ,  1.7423 ],\n",
    "     [ 2.     ,  2.     ,  2.     ,  2.     ,  0.     , -3.3287 ],\n",
    "     [ 2.     ,  2.     ,  2.     ,  2.     ,  2.     ,  0.0878 ],\n",
    "     [ 3.     ,  3.     ,  3.     ,  3.     ,  0.     ,  0.244  ],\n",
    "     [ 3.     ,  3.     ,  4.     ,  4.     ,  0.     , -5.0526 ],\n",
    "     [ 3.     ,  4.     ,  3.     ,  4.     ,  1.     ,  0.7344 ],\n",
    "     [ 3.     ,  4.     ,  3.     ,  4.     ,  2.     , -1.1443 ],\n",
    "     [ 3.     ,  4.     ,  4.     ,  4.     ,  2.     ,  1.7423 ],\n",
    "     [ 4.     ,  4.     ,  4.     ,  4.     ,  0.     , -3.3287 ],\n",
    "     [ 4.     ,  4.     ,  4.     ,  4.     ,  2.     ,  0.0878 ],\n",
    "     [ 1.     ,  3.     ,  1.     ,  3.     ,  0.     ,  0.244  ],\n",
    "     [ 1.     ,  3.     ,  1.     ,  3.     ,  1.     , -4.29215],\n",
    "     [ 1.     ,  3.     ,  1.     ,  4.     ,  1.     , -0.85185],\n",
    "     [ 1.     ,  3.     ,  2.     ,  3.     ,  1.     ,  0.85185],\n",
    "     [ 1.     ,  3.     ,  2.     ,  4.     ,  0.     , -5.0526 ],\n",
    "     [ 1.     ,  3.     ,  2.     ,  4.     ,  1.     ,  1.7698 ],\n",
    "     [ 1.     ,  4.     ,  1.     ,  4.     ,  1.     , -2.91415],\n",
    "     [ 2.     ,  3.     ,  1.     ,  4.     ,  1.     ,  3.64855],\n",
    "     [ 2.     ,  3.     ,  2.     ,  3.     ,  1.     , -2.91415],\n",
    "     [ 1.     ,  4.     ,  1.     ,  4.     ,  2.     , -2.6011 ],\n",
    "     [ 2.     ,  3.     ,  1.     ,  4.     ,  2.     , -1.4568 ],\n",
    "     [ 2.     ,  3.     ,  2.     ,  3.     ,  2.     , -2.6011 ],\n",
    "     [ 1.     ,  4.     ,  2.     ,  4.     ,  1.     , -2.2667 ],\n",
    "     [ 2.     ,  3.     ,  2.     ,  4.     ,  1.     ,  2.2667 ],\n",
    "     [ 1.     ,  4.     ,  2.     ,  4.     ,  2.     ,  1.23199],\n",
    "     [ 2.     ,  3.     ,  2.     ,  4.     ,  2.     , -1.23199],\n",
    "     [ 2.     ,  4.     ,  2.     ,  4.     ,  0.     , -3.3287 ],\n",
    "     [ 2.     ,  4.     ,  2.     ,  4.     ,  1.     , -3.4362 ],\n",
    "     [ 2.     ,  4.     ,  2.     ,  4.     ,  2.     ,  0.0878 ],\n",
    "     [ 2.     ,  4.     ,  2.     ,  4.     ,  3.     , -7.2668 ]])\n",
    "\n",
    "\n",
    "\n",
    "\n",
    "# The tbme_template needs to be sorted before input in order for the gradient indices to be right\n",
    "tbme_template = tbme_template[np.lexsort((tbme_template[:,4],tbme_template[:,3],tbme_template[:,2],tbme_template[:,1],tbme_template[:,0]))]\n",
    "nucleiList = { \n",
    "  # This list of nuclei is generated using the extract_level_info_from_RIPL.py script to get spin, parity information. \n",
    "  # The selection is based on manually going throught ENSDF entries,\n",
    "  # stopping before unnatural-parity or undetermined levels\n",
    "   \"B10\": {\"A\":10, \"Z\":5, \"levels\":[\"3.0+2\",\"0.0+1\",\"1.0+2\",\"2.0+1\",], \"truncation\":truncation},\n",
    "  # \"B11\": {\"A\":11, \"Z\":5, \"levels\":[\"3.5-1\",\"0.5-1\",\"2.5-1\",\"1.5-2\",], \"truncation\":truncation},\n",
    "  # \"B12\": {\"A\":12, \"Z\":5, \"levels\":[\"1.0+1\",\"2.0+1\",], \"truncation\":truncation},\n",
    "  # \"B9\": {\"A\":9, \"Z\":5, \"levels\":[\"1.5-1\",], \"truncation\":truncation},\n",
    "  # \"Be10\": {\"A\":10, \"Z\":4, \"levels\":[\"0.0+1\",\"2.0+2\",], \"truncation\":truncation},\n",
    "  # \"Be6\": {\"A\":6, \"Z\":4, \"levels\":[\"0.0+1\",], \"truncation\":truncation},\n",
    "  # \"Be7\": {\"A\":7, \"Z\":4, \"levels\":[\"3.5-2\",\"0.5-2\",\"2.5-2\",\"1.5-3\",], \"truncation\":truncation},\n",
    "  # \"Be8\": {\"A\":8, \"Z\":4, \"levels\":[\"0.0+1\",\"1.0+2\",\"2.0-1\",\"4.0+1\",\"2.0+3\",], \"truncation\":truncation},\n",
    "  # \"Be9\": {\"A\":9, \"Z\":4, \"levels\":[\"2.5+1\",\"0.5+1\",\"0.5-1\",\"2.5-1\",\"1.5-1\",], \"truncation\":truncation},\n",
    "  # \"C10\": {\"A\":10, \"Z\":6, \"levels\":[\"0.0+1\",\"2.0+1\",], \"truncation\":truncation},\n",
    "  # \"C11\": {\"A\":11, \"Z\":6, \"levels\":[\"0.5-1\",\"2.5-1\",\"1.5-2\",], \"truncation\":truncation},\n",
    "  # \"C12\": {\"A\":12, \"Z\":6, \"levels\":[\"0.0+2\",\"2.0+1\",], \"truncation\":truncation},\n",
    "  # \"C13\": {\"A\":13, \"Z\":6, \"levels\":[\"0.5-1\",], \"truncation\":truncation},\n",
    "  # \"C8\": {\"A\":8, \"Z\":6, \"levels\":[\"0.0+1\",], \"truncation\":truncation},\n",
    "  # \"He5\": {\"A\":5, \"Z\":2, \"levels\":[\"1.5-1\",], \"truncation\":truncation},\n",
    "  # \"He6\": {\"A\":6, \"Z\":2, \"levels\":[\"0.0+1\",\"2.0+1\",], \"truncation\":truncation},\n",
    "  \"Li5\": {\"A\":5, \"Z\":3, \"levels\":[\"1.5-1\",], \"truncation\":truncation},\n",
    "  # \"Li6\": {\"A\":6, \"Z\":3, \"levels\":[\"3.0+2\",\"0.0+1\",\"1.0+2\",\"2.0+2\",], \"truncation\":truncation},\n",
    "  # \"Li7\": {\"A\":7, \"Z\":3, \"levels\":[\"3.5-2\",\"0.5-1\",\"2.5-2\",\"1.5-3\",], \"truncation\":truncation},\n",
    "  # \"Li8\": {\"A\":8, \"Z\":3, \"levels\":[\"3.0+1\",\"1.0+3\",\"2.0+1\",], \"truncation\":truncation},\n",
    "  # \"Li9\": {\"A\":9, \"Z\":3, \"levels\":[\"1.5-1\",], \"truncation\":truncation},\n",
    "  # \"N12\": {\"A\":12, \"Z\":7, \"levels\":[\"1.0+1\",\"2.0+1\",], \"truncation\":truncation},\n",
    "  # \"N13\": {\"A\":13, \"Z\":7, \"levels\":[\"0.5-1\",], \"truncation\":truncation},\n",
    "   \"N14\": {\"A\":14, \"Z\":7, \"levels\":[\"0.0+1\",\"1.0+2\",], \"truncation\":truncation},\n",
    "}\n",
    "from collections import OrderedDict\n",
    "nucleiList = OrderedDict(sorted(nucleiList.items()))\n",
    "\n",
    "# Sum number of levels in all calculations\n",
    "calclevelsum = 0\n",
    "for nucleusName, nucleusAttr in nucleiList.items():\n",
    "  calclevelsum += sum_num_levels(nucleusAttr[\"levels\"])\n",
    "print(\"Total number of levels for all SM calculations N = {:d}\".format(calclevelsum))\n",
    "\n",
    "# E_exp = np.array([-3.944, -3.061, -11.787, -9.764, -8.432, -7.636, -7.514,]) # O17 + O18 USDa values, for testing\n",
    "expLevelPath = \"../generated_comparison_data/p_shell\"\n",
    "expLevelsDict = {}\n",
    "# E_exp = []\n",
    "for nucleusName in list(nucleiList.keys()):\n",
    "  filename = os.path.join(expLevelPath, nucleusName, \"summary_\"+nucleusName+\".txt\")\n",
    "  levels = smutil.read_energy_levels(filename)\n",
    "  Egs = levels[0,0] \n",
    "  levels[:,0] = levels[:,0]-Egs\n",
    "  # E_exp = \n",
    "  expLevelsDict[nucleusName] = {\"levels\":levels}\n",
    "  expLevelsDict[nucleusName][\"Egs\"] = Egs\n",
    "  # expLevelsDict[nucleusName][\"sigma\"] = 1e-3*np.ones(len(levels[:,0])) # Take sigma to be 1 keV for calculation uncert, as a first test\n",
    "  expLevelsDict[nucleusName][\"sigma\"] = 1*np.ones(len(levels[:,0])) \n",
    "# sigma = np.ones(len(E_exp))\n",
    "A0 = 4 # Mass scaling parameter\n",
    "p = -0.3 # Mass scaling parameter"
   ]
  },
  {
   "cell_type": "code",
   "execution_count": 3,
   "metadata": {},
   "outputs": [
    {
     "name": "stdout",
     "output_type": "stream",
     "text": [
      "Chisquare value at true parameter point (should be zero):\n",
      " 0.0\n"
     ]
    }
   ],
   "source": [
    "# === Test chisquare function: ===\n",
    "th.config.exception_verbosity = \"high\"\n",
    "variable = th.tensor.dvector()\n",
    "tt_chisquare = ChiSquare(core, model_space, spe_template, tbme_template, nucleiList, KSHELL_DIR,\n",
    "                         expLevelsDict, mass_scaling=True, scaling_A0=A0, scaling_p=p, is_mpi=IS_MPI)\n",
    "f_tt_chisquare = th.function([variable], tt_chisquare(variable))\n",
    "\n",
    "# Evaluate the chisquare at the exact parameter point that was used to generated the synthetic data:\n",
    "print(\"Chisquare value at true parameter point (should be zero):\\n\", f_tt_chisquare(np.hstack((spe_template, tbme_template[:,5]))))"
   ]
  },
  {
   "cell_type": "code",
   "execution_count": 4,
   "metadata": {},
   "outputs": [
    {
     "name": "stdout",
     "output_type": "stream",
     "text": [
      "trial_vector = [ 2.1771    1.0161    2.1771    1.0161    0.2196   -4.54734   0.66096\n",
      " -1.02987   1.56807   0.2196   -3.862935 -0.766665  0.766665 -4.54734\n",
      "  1.59282  -2.622735 -2.34099  -2.04003   1.108791 -2.99583   0.07902\n",
      "  3.283695 -1.31112  -2.622735 -2.34099   2.04003  -1.108791 -2.99583\n",
      " -3.09258   0.07902  -6.54012   0.2196   -4.54734   0.66096  -1.02987\n",
      "  1.56807  -2.99583   0.07902 ]\n",
      "chisquare(0.9*tbme_true) = 91.69695205459992\n",
      "chisquare(0.9*tbme_true+eps*x_30) = 93.23158783839995\n",
      "Numerical derivative along axis 30 = 153.463578\n"
     ]
    }
   ],
   "source": [
    "# # === Test gradient -- \n",
    "trial_vector = 0.9*np.hstack((spe_template, tbme_template[:,5]))\n",
    "print(\"trial_vector =\", trial_vector)\n",
    "# Test chisquare Op:\n",
    "chisq_x = f_tt_chisquare(trial_vector)\n",
    "print(\"chisquare(0.9*tbme_true) =\", chisq_x)\n",
    "\n",
    "# Manual gradient test:\n",
    "eps = 1e-2\n",
    "j_deriv = 30\n",
    "trial_vector_eps = np.copy(trial_vector)\n",
    "trial_vector_eps[j_deriv] += eps\n",
    "# print \"trial_vector_eps =\", trial_vector_eps\n",
    "chisq_x_eps = f_tt_chisquare(trial_vector_eps)\n",
    "print(\"chisquare(0.9*tbme_true+eps*x_{:d}) =\".format(j_deriv), chisq_x_eps)\n",
    "\n",
    "print(\"Numerical derivative along axis {:d} = {:f}\".format(j_deriv, (chisq_x_eps-chisq_x)/eps))"
   ]
  },
  {
   "cell_type": "code",
   "execution_count": 5,
   "metadata": {},
   "outputs": [
    {
     "name": "stdout",
     "output_type": "stream",
     "text": [
      "chisquareGrad(0.9*tbme_true)[direct chisq eval] = [ 1.92458616e+01  9.13586184e+01  1.92458593e+01  9.15844207e+01\n",
      "  6.43482694e-01  3.14700388e+00  2.66964830e+01  4.49358896e+01\n",
      " -2.54781301e+00  1.11569841e-01  1.76115967e+01  4.81556861e+00\n",
      " -4.81556813e+00  2.47166946e+00 -6.26799258e+00  2.89067393e+01\n",
      "  4.55352927e+01  6.85383630e-01 -1.87743972e+00  2.01152827e+01\n",
      "  1.04367141e+02 -4.41162571e+00  1.18110836e+00  2.89067351e+01\n",
      "  4.55352923e+01 -6.85388072e-01  1.87744245e+00  1.97968009e+01\n",
      "  6.07957302e+01  1.04382568e+02  1.52764516e+02  6.43483316e-01\n",
      "  3.14700613e+00  2.66964820e+01  4.49358860e+01 -2.54781306e+00\n",
      "  2.01152835e+01  1.04367145e+02]\n",
      "chisquareGrad(0.9*tbme_true)[theano grad method] = [ 1.92458616e+01  9.13586184e+01  1.92458593e+01  9.15844207e+01\n",
      "  6.43482694e-01  3.14700388e+00  2.66964830e+01  4.49358896e+01\n",
      " -2.54781301e+00  1.11569841e-01  1.76115967e+01  4.81556861e+00\n",
      " -4.81556813e+00  2.47166946e+00 -6.26799258e+00  2.89067393e+01\n",
      "  4.55352927e+01  6.85383630e-01 -1.87743972e+00  2.01152827e+01\n",
      "  1.04367141e+02 -4.41162571e+00  1.18110836e+00  2.89067351e+01\n",
      "  4.55352923e+01 -6.85388072e-01  1.87744245e+00  1.97968009e+01\n",
      "  6.07957302e+01  1.04382568e+02  1.52764516e+02  6.43483316e-01\n",
      "  3.14700613e+00  2.66964820e+01  4.49358860e+01 -2.54781306e+00\n",
      "  2.01152835e+01  1.04367145e+02]\n"
     ]
    }
   ],
   "source": [
    "# Test gradient Op by direct call:\n",
    "tt_chisquare_grad = ChiSquareGrad(core, model_space, spe_template, tbme_template, nucleiList, KSHELL_DIR,\n",
    "                                  expLevelsDict, mass_scaling=True, scaling_A0=A0, scaling_p=p, is_mpi=IS_MPI)\n",
    "f_tt_chisquare_grad = th.function([variable], tt_chisquare_grad(variable))\n",
    "chisq_grad_x = f_tt_chisquare_grad(trial_vector)\n",
    "print(\"chisquareGrad(0.9*tbme_true)[direct chisq eval] =\", chisq_grad_x)\n",
    "# Or instead by grad method of Chisquare:\n",
    "tt_chisquare_grad = th.tensor.grad(tt_chisquare(variable), variable)\n",
    "f_tt_chisquare_grad = th.function([variable], tt_chisquare_grad)\n",
    "chisq_grad_x = f_tt_chisquare_grad(trial_vector)\n",
    "print(\"chisquareGrad(0.9*tbme_true)[theano grad method] =\", chisq_grad_x)\n",
    "\n"
   ]
  },
  {
   "cell_type": "code",
   "execution_count": 6,
   "metadata": {},
   "outputs": [
    {
     "name": "stdout",
     "output_type": "stream",
     "text": [
      "Starting PyMC3 model setup\n"
     ]
    }
   ],
   "source": [
    "# === Set up PyMC3 model: ===\n",
    "with pm.Model() as model:\n",
    "  print(\"Starting PyMC3 model setup\")\n",
    "  Nparams = 38\n",
    "  lower_spe = 0*np.ones(4)\n",
    "  upper_spe = 5*np.ones(4)\n",
    "  lower_tbme = -8*np.ones(34)\n",
    "  upper_tbme = +8*np.ones(34) # Trying to avoid NUTS getting stuck at zero values of all parameters by de-centering the priors from zero\n",
    "  lower = np.concatenate((lower_spe, lower_tbme))\n",
    "  upper = np.concatenate((upper_spe, upper_tbme))\n",
    "  spe_tbme = pm.Uniform('spe_tbme', lower=lower, upper=upper, shape=Nparams)\n",
    "  \n",
    "  def logp(dummy_data):\n",
    "    # Wrapper for the chisquare function to make it a log-likelihood\n",
    "    return -0.5*tt_chisquare(spe_tbme)\n",
    "\n",
    "  x = pm.DensityDist('x', logp, observed=0) # Call the likelihood evaluation with a dummy \"observed\" since the true data are read directly in the chisquare"
   ]
  },
  {
   "cell_type": "code",
   "execution_count": 10,
   "metadata": {},
   "outputs": [
    {
     "name": "stderr",
     "output_type": "stream",
     "text": [
      "/usr/local/lib/python3.7/dist-packages/pymc3/tuning/starting.py:61: UserWarning: find_MAP should not be used to initialize the NUTS sampler, simply call pymc3.sample() and it will automatically initialize NUTS in a better way.\n",
      "  warnings.warn('find_MAP should not be used to initialize the NUTS sampler, simply call pymc3.sample() and it will automatically initialize NUTS in a better way.')\n"
     ]
    },
    {
     "name": "stdout",
     "output_type": "stream",
     "text": [
      "Calling find_MAP()\n"
     ]
    },
    {
     "name": "stderr",
     "output_type": "stream",
     "text": [
      "logp = -100.71, ||grad|| = 0.020382: 100%|██████████| 99/99 [01:14<00:00,  1.32it/s]    "
     ]
    },
    {
     "name": "stdout",
     "output_type": "stream",
     "text": [
      "start =\n",
      "{'spe_tbme': array([ 2.42900878,  1.12562968,  2.38459387,  1.14285056, -0.0760348 ,\n",
      "       -4.95831797,  0.77865884, -1.14415771, -1.72239568,  0.11403798,\n",
      "       -4.27502138, -0.91628079, -0.78828106,  4.86276079, -1.77188559,\n",
      "       -2.92612635, -2.57798807,  2.26843729, -1.24694451, -3.32334739,\n",
      "        0.09470777, -3.65536113,  1.49764655, -2.89159072, -2.52822216,\n",
      "        2.25975957, -1.26741065, -3.50283412, -3.4442555 ,  0.06533402,\n",
      "       -7.2771209 ,  0.74309856, -5.35134143,  0.66697209, -1.23320705,\n",
      "        1.72802312, -3.16616284,  0.11492821]), 'spe_tbme_interval__': array([-0.05680825, -1.23604056, -0.09239057, -1.21640279, -0.01900927,\n",
      "       -1.44932724,  0.19528295, -0.288014  , -0.43744363,  0.02851143,\n",
      "       -1.1925053 , -0.23007983, -0.1977118 ,  1.4109932 , -0.45043582,\n",
      "       -0.76705227, -0.66830829,  0.58308663, -0.3142981 , -0.88428414,\n",
      "        0.02367805, -0.98682361,  0.37887986, -0.75710294, -0.6544559 ,\n",
      "        0.58072831, -0.3195442 , -0.93914606, -0.92109894,  0.01633387,\n",
      "       -3.05086963,  0.18631171, -1.61756355,  0.16713098, -0.31077919,\n",
      "        0.4389191 , -0.83724743,  0.02873403])}\n"
     ]
    },
    {
     "name": "stderr",
     "output_type": "stream",
     "text": [
      "\n"
     ]
    }
   ],
   "source": [
    "# Find MAP (maximum a posteriori), basically the chisquare max likelihoood estimate.\n",
    "with model:\n",
    "    print(\"Calling find_MAP()\")\n",
    "    MAP = pm.find_MAP() # BFGS should be default optimizer\n",
    "    print(\"start =\")\n",
    "    print(start)\n",
    "    "
   ]
  },
  {
   "cell_type": "code",
   "execution_count": 8,
   "metadata": {},
   "outputs": [
    {
     "name": "stderr",
     "output_type": "stream",
     "text": [
      "Only 100 samples in chain.\n",
      "Auto-assigning NUTS sampler...\n",
      "Initializing NUTS using jitter+adapt_diag...\n"
     ]
    },
    {
     "name": "stdout",
     "output_type": "stream",
     "text": [
      "Calling PyMC3 sampler\n"
     ]
    },
    {
     "name": "stderr",
     "output_type": "stream",
     "text": [
      "Sequential sampling (2 chains in 1 job)\n",
      "NUTS: [spe_tbme]\n",
      "  1%|          | 5/600 [10:41<23:16:31, 140.83s/it]/usr/local/lib/python3.7/dist-packages/numpy/core/fromnumeric.py:3118: RuntimeWarning: Mean of empty slice.\n",
      "  out=out, **kwargs)\n",
      "\n",
      "Only one chain was sampled, this makes it impossible to run some convergence checks\n"
     ]
    }
   ],
   "source": [
    "with model:\n",
    "    # db = pm.backends.Text('pymc3-results')\n",
    "    print(\"Calling PyMC3 sampler\")\n",
    "    # trace = pm.sample(100, trace=db, start=start, step=step, init=\"jitter+adapt_diag\", njobs=2)\n",
    "    trace = pm.sample(100, start=start, cores=1)"
   ]
  },
  {
   "cell_type": "code",
   "execution_count": 9,
   "metadata": {},
   "outputs": [],
   "source": [
    "# Plotting:\n",
    "\n",
    "plt.figure(0)\n",
    "pm.energyplot(trace)\n",
    "plt.savefig(\"energyplot.pdf\")\n",
    "plt.figure(1)\n",
    "pm.traceplot(trace)\n",
    "plt.savefig(\"traceplot.pdf\")\n",
    "plt.figure(2)\n",
    "pm.forestplot(trace)\n",
    "plt.savefig(\"forestplot.pdf\")\n",
    "plt.show()"
   ]
  },
  {
   "cell_type": "code",
   "execution_count": null,
   "metadata": {},
   "outputs": [],
   "source": []
  }
 ],
 "metadata": {
  "kernelspec": {
   "display_name": "Python 3",
   "language": "python",
   "name": "python3"
  },
  "language_info": {
   "codemirror_mode": {
    "name": "ipython",
    "version": 3
   },
   "file_extension": ".py",
   "mimetype": "text/x-python",
   "name": "python",
   "nbconvert_exporter": "python",
   "pygments_lexer": "ipython3",
   "version": "3.7.3"
  }
 },
 "nbformat": 4,
 "nbformat_minor": 2
}
